{
 "cells": [
  {
   "cell_type": "markdown",
   "metadata": {},
   "source": [
    "<h2> A simple Genetic Algorithm for the approximation of the major axis of an ellipse </h2>"
   ]
  },
  {
   "cell_type": "markdown",
   "metadata": {},
   "source": [
    "<h4>Massimo Montanaro (collab. Federico Calesella)</h4>"
   ]
  },
  {
   "cell_type": "markdown",
   "metadata": {},
   "source": [
    "<p>This project is only an exercise in writing a genetic algorithm for the <i>stochastic search</i> of the pair of points with the maximum distance on the perimeter of an ellipse. The line passing through these two points corresponds to the major axis of the ellipse.</p>"
   ]
  },
  {
   "cell_type": "code",
   "execution_count": 1,
   "metadata": {},
   "outputs": [],
   "source": [
    "import numpy as np\n",
    "import cv2\n",
    "import matplotlib.pyplot as plt\n",
    "%matplotlib inline"
   ]
  },
  {
   "cell_type": "code",
   "execution_count": 2,
   "metadata": {},
   "outputs": [],
   "source": [
    "def draw_ellipse(center, radius):\n",
    "\n",
    "    img = np.ones((512,512,3), np.uint8) * 255\n",
    "    ellipse = cv2.ellipse(img, center, radius, 31, 0, 360, (0,0,0),-1)\n",
    "    plt.imshow(ellipse)\n",
    "    \n",
    "    return ellipse"
   ]
  },
  {
   "cell_type": "markdown",
   "metadata": {},
   "source": [
    "<p> <i>cv2.ellipse</i> needs 2 tuples (center_x, center_y) and (half_xaxis, half_yaxis), so what we want to approximate is max(half_xaxis, half_yaxis) * 2</p>"
   ]
  },
  {
   "cell_type": "code",
   "execution_count": 3,
   "metadata": {},
   "outputs": [
    {
     "data": {
      "image/png": "[encoded data removed]",
      "text/plain": [
       "<Figure size 432x288 with 1 Axes>"
      ]
     },
     "metadata": {
      "needs_background": "light"
     },
     "output_type": "display_data"
    }
   ],
   "source": [
    "ellipse = draw_ellipse((130,240), (100,110))"
   ]
  },
  {
   "cell_type": "markdown",
   "metadata": {},
   "source": [
    "<p> <i>extract_expoints</i> is a function that extracts the coordinates of the points of the contour of the ellipse"
   ]
  },
  {
   "cell_type": "code",
   "execution_count": 4,
   "metadata": {},
   "outputs": [],
   "source": [
    "def extract_expoints(ellipse):\n",
    "    external_points = []\n",
    "    \n",
    "    for count in range(ellipse.shape[0]):\n",
    "        row = ellipse[count,:,0]\n",
    "        row_point = np.array(np.where(row == 0))\n",
    "        if row_point.shape[1] != 0:\n",
    "            left_point = row_point.min()\n",
    "            right_point = row_point.max()\n",
    "            lista = [count, left_point, right_point]\n",
    "            external_points.append(lista)\n",
    "            \n",
    "    external_points = np.array(external_points)\n",
    "    unique_list = np.zeros((external_points.shape[0]*2,2))\n",
    "    unique_list[0:external_points.shape[0],0:2] = external_points[0:external_points.shape[0],0:2]\n",
    "    reversed_half_external_points = np.flip(external_points, 0)\n",
    "    unique_list[external_points.shape[0]:,0:2] = reversed_half_external_points[0:external_points.shape[0],(0,2)]\n",
    "    points = np.flip(unique_list, 1)\n",
    "    \n",
    "    return points"
   ]
  },
  {
   "cell_type": "code",
   "execution_count": 5,
   "metadata": {},
   "outputs": [
    {
     "data": {
      "text/plain": [
       "array([[126., 133.],\n",
       "       [120., 134.],\n",
       "       [115., 135.],\n",
       "       [111., 136.],\n",
       "       [109., 137.],\n",
       "       [106., 138.],\n",
       "       [103., 139.],\n",
       "       [100., 140.],\n",
       "       [ 97., 141.],\n",
       "       [ 95., 142.]])"
      ]
     },
     "execution_count": 5,
     "metadata": {},
     "output_type": "execute_result"
    }
   ],
   "source": [
    "points = extract_expoints(ellipse)\n",
    "points[:10,:]"
   ]
  },
  {
   "cell_type": "markdown",
   "metadata": {},
   "source": [
    "<p>Implementing GA </p>"
   ]
  },
  {
   "cell_type": "code",
   "execution_count": 6,
   "metadata": {},
   "outputs": [],
   "source": [
    "def population (n, points):\n",
    "\n",
    "    rand_coord = np.random.randint(0, points.shape[0], size = (n, 2))\n",
    "        \n",
    "    return rand_coord"
   ]
  },
  {
   "cell_type": "code",
   "execution_count": 7,
   "metadata": {},
   "outputs": [],
   "source": [
    "def find_distance (population, points):\n",
    "    \n",
    "    distances = []\n",
    "    \n",
    "    for count in range(0, population.shape[0]):\n",
    "        \n",
    "        difx = points[int(population[count,0]),0] - points[int(population[count,1]),0]\n",
    "        dify = points[int(population[count,0]),1] - points[int(population[count,1]),1]\n",
    "        distance = np.sqrt((difx ** 2) + (dify ** 2))\n",
    "        distances.append(distance)\n",
    "        \n",
    "    return np.array(distances)"
   ]
  },
  {
   "cell_type": "code",
   "execution_count": 8,
   "metadata": {},
   "outputs": [],
   "source": [
    "def find_better_combination (population, distances, n_best):\n",
    "    \n",
    "    ordered_population = np.zeros((population.shape[0], population.shape[1]))\n",
    "    \n",
    "    for count1, count2 in enumerate(np.flip(distances.argsort())):\n",
    "        ordered_population[count1,:] = population[count2,:]\n",
    "    \n",
    "    best_distance = distances[np.flip(distances.argsort())[0]]\n",
    "        \n",
    "    return (best_distance, ordered_population[0:n_best, :])"
   ]
  },
  {
   "cell_type": "code",
   "execution_count": 9,
   "metadata": {},
   "outputs": [],
   "source": [
    "def next_generation (best_population, n_population, new, mutation_rate, points):\n",
    "    \n",
    "    point_from = best_population[:,0].ravel()\n",
    "    point_to = best_population[:,1].ravel()\n",
    "    \n",
    "    rand_point_from = np.random.choice(point_from, new)\n",
    "    mutate_from = np.random.randint(-(mutation_rate-1), mutation_rate, rand_point_from.shape[0])\n",
    "    mutated_point_from = rand_point_from + mutate_from\n",
    "    \n",
    "    if any(mutated_point_from > (points.shape[0] - 1)):\n",
    "        out_bound = np.where(mutated_point_from > (points.shape[0] - 1))[0]\n",
    "        for ind_out in out_bound:\n",
    "            mutated_point_from[ind_out] = mutated_point_from[ind_out] - points.shape[0]\n",
    "    \n",
    "    rand_point_to = np.random.choice(point_to, new)\n",
    "    mutate_to = np.random.randint(-(mutation_rate-1), mutation_rate, rand_point_to.shape[0])\n",
    "    mutated_point_to = rand_point_to + mutate_to\n",
    "    \n",
    "    if any(mutated_point_to > (points.shape[0] - 1)):\n",
    "        out_bound = np.where(mutated_point_to > (points.shape[0] - 1))[0]\n",
    "        for ind_out in out_bound:\n",
    "            mutated_point_to[ind_out] = mutated_point_to[ind_out] - points.shape[0]\n",
    "        \n",
    "    next_gen = np.zeros((n_population, 2))\n",
    "    next_gen[0:new, 0] = mutated_point_from\n",
    "    next_gen[0:new, 1] = mutated_point_to\n",
    "\n",
    "    for count in range(new, next_gen.shape[0]):\n",
    "        next_gen[count,0] = np.random.randint(0, points.shape[0], 1)\n",
    "        next_gen[count,1] = np.random.randint(0, points.shape[0], 1)\n",
    "        \n",
    "    return next_gen"
   ]
  },
  {
   "cell_type": "code",
   "execution_count": 10,
   "metadata": {},
   "outputs": [],
   "source": [
    "def genetic_algorithm (pop_size, n_iteration, n_best, new, mutation_rate, points):\n",
    "    \n",
    "    maj_axis = 0\n",
    "    coord = None\n",
    "    \n",
    "    pop = population(pop_size, points)\n",
    "    distances = find_distance(pop, points)\n",
    "    \n",
    "    best_distance, best_ind = find_better_combination(pop, distances, n_best)\n",
    "    \n",
    "    maj_axis = best_distance\n",
    "    coord = best_ind[0, :]\n",
    "    \n",
    "    for count in range(0, n_iteration): \n",
    "        pop = next_generation(best_ind, pop_size, new, mutation_rate, points)\n",
    "        distances = find_distance(pop, points)\n",
    "        \n",
    "        best_distance, best_ind = find_better_combination(pop, distances, n_best)\n",
    "        \n",
    "        if best_distance > maj_axis:\n",
    "            maj_axis = best_distance\n",
    "            coord = best_ind[0,:]\n",
    "    \n",
    "    return ([points[int(coord[0])], points[int(coord[1])]], maj_axis)"
   ]
  },
  {
   "cell_type": "code",
   "execution_count": 11,
   "metadata": {},
   "outputs": [],
   "source": [
    "coord, maj_axis = genetic_algorithm(50, 100, 10, 25, 60, points)"
   ]
  },
  {
   "cell_type": "code",
   "execution_count": 12,
   "metadata": {},
   "outputs": [
    {
     "data": {
      "text/plain": [
       "([array([194., 150.]), array([ 68., 331.])], 220)"
      ]
     },
     "execution_count": 12,
     "metadata": {},
     "output_type": "execute_result"
    }
   ],
   "source": [
    "coord, int(maj_axis)"
   ]
  },
  {
   "cell_type": "markdown",
   "metadata": {},
   "source": [
    "<p> How we can see int(maj_axis) is equal to 110 * 2 </p>"
   ]
  },
  {
   "cell_type": "code",
   "execution_count": 13,
   "metadata": {},
   "outputs": [],
   "source": [
    "def draw_maj_axis(ellipse, coord):\n",
    "    \n",
    "    pt1 = (int(coord[0][0]), int(coord[0][1]))\n",
    "    pt2 = (int(coord[1][0]), int(coord[1][1]))\n",
    "    line = cv2.line(ellipse, pt1 = pt1, pt2 = pt2, color=(0,255,0), thickness=1)\n",
    "    \n",
    "    plt.imshow(line)"
   ]
  },
  {
   "cell_type": "code",
   "execution_count": 14,
   "metadata": {},
   "outputs": [
    {
     "data": {
      "image/png": "[encoded data removed]",
      "text/plain": [
       "<Figure size 432x288 with 1 Axes>"
      ]
     },
     "metadata": {
      "needs_background": "light"
     },
     "output_type": "display_data"
    }
   ],
   "source": [
    "draw_maj_axis(ellipse, coord)"
   ]
  },
  {
   "cell_type": "markdown",
   "metadata": {},
   "source": [
    "<p> Let's try other ellipses </p>"
   ]
  },
  {
   "cell_type": "code",
   "execution_count": 15,
   "metadata": {},
   "outputs": [
    {
     "data": {
      "image/png": "[encoded data removed]",
      "text/plain": [
       "<Figure size 432x288 with 1 Axes>"
      ]
     },
     "metadata": {
      "needs_background": "light"
     },
     "output_type": "display_data"
    }
   ],
   "source": [
    "ellipse = draw_ellipse((150,270), (45,132))"
   ]
  },
  {
   "cell_type": "code",
   "execution_count": 16,
   "metadata": {},
   "outputs": [
    {
     "name": "stdout",
     "output_type": "stream",
     "text": [
      "263\n"
     ]
    },
    {
     "data": {
      "image/png": "[encoded data removed]",
      "text/plain": [
       "<Figure size 432x288 with 1 Axes>"
      ]
     },
     "metadata": {
      "needs_background": "light"
     },
     "output_type": "display_data"
    }
   ],
   "source": [
    "points = extract_expoints(ellipse)\n",
    "coord, maj_axis = genetic_algorithm(50, 100, 10, 25, 60, points)\n",
    "print(int(maj_axis))\n",
    "draw_maj_axis(ellipse, coord)"
   ]
  },
  {
   "cell_type": "code",
   "execution_count": 17,
   "metadata": {},
   "outputs": [
    {
     "data": {
      "image/png": "[encoded data removed]",
      "text/plain": [
       "<Figure size 432x288 with 1 Axes>"
      ]
     },
     "metadata": {
      "needs_background": "light"
     },
     "output_type": "display_data"
    }
   ],
   "source": [
    "ellipse = draw_ellipse((380,350), (120,110))"
   ]
  },
  {
   "cell_type": "code",
   "execution_count": 18,
   "metadata": {},
   "outputs": [
    {
     "name": "stdout",
     "output_type": "stream",
     "text": [
      "240\n"
     ]
    },
    {
     "data": {
      "image/png": "[encoded data removed]",
      "text/plain": [
       "<Figure size 432x288 with 1 Axes>"
      ]
     },
     "metadata": {
      "needs_background": "light"
     },
     "output_type": "display_data"
    }
   ],
   "source": [
    "points = extract_expoints(ellipse)\n",
    "coord, maj_axis = genetic_algorithm(50, 100, 10, 25, 60, points)\n",
    "print(int(maj_axis))\n",
    "draw_maj_axis(ellipse, coord)"
   ]
  }
 ],
 "metadata": {
  "kernelspec": {
   "display_name": "Python 3",
   "language": "python",
   "name": "python3"
  },
  "language_info": {
   "codemirror_mode": {
    "name": "ipython",
    "version": 3
   },
   "file_extension": ".py",
   "mimetype": "text/x-python",
   "name": "python",
   "nbconvert_exporter": "python",
   "pygments_lexer": "ipython3",
   "version": "3.6.6"
  }
 },
 "nbformat": 4,
 "nbformat_minor": 2
}
